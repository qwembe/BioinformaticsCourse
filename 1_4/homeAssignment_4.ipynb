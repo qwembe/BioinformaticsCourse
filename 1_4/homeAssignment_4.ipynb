{
 "cells": [
  {
   "cell_type": "code",
   "execution_count": 7,
   "metadata": {},
   "outputs": [
    {
     "name": "stdout",
     "output_type": "stream",
     "text": [
      "Collecting package metadata (current_repodata.json): ...working... done\n",
      "Solving environment: ...working... done\n",
      "\n",
      "## Package Plan ##\n",
      "\n",
      "  environment location: C:\\Users\\qwemb\\anaconda3\n",
      "\n",
      "  added / updated specs:\n",
      "    - biopython\n",
      "\n",
      "\n",
      "The following packages will be downloaded:\n",
      "\n",
      "    package                    |            build\n",
      "    ---------------------------|-----------------\n",
      "    biopython-1.78             |   py38he774522_0         2.1 MB\n",
      "    ------------------------------------------------------------\n",
      "                                           Total:         2.1 MB\n",
      "\n",
      "The following NEW packages will be INSTALLED:\n",
      "\n",
      "  biopython          pkgs/main/win-64::biopython-1.78-py38he774522_0\n",
      "\n",
      "\n",
      "\n",
      "Downloading and Extracting Packages\n",
      "\n",
      "biopython-1.78       | 2.1 MB    |            |   0% \n",
      "biopython-1.78       | 2.1 MB    |            |   1% \n",
      "biopython-1.78       | 2.1 MB    | #3         |  13% \n",
      "biopython-1.78       | 2.1 MB    | #####2     |  52% \n",
      "biopython-1.78       | 2.1 MB    | ########## | 100% \n",
      "biopython-1.78       | 2.1 MB    | ########## | 100% \n",
      "Preparing transaction: ...working... done\n",
      "Verifying transaction: ...working... done\n",
      "Executing transaction: ...working... done\n"
     ]
    }
   ],
   "source": [
    "import sys\n",
    "!conda install --yes --prefix {sys.prefix} biopython"
   ]
  },
  {
   "cell_type": "markdown",
   "metadata": {},
   "source": [
    "# Домашнее задание №4\n",
    "\n",
    "Это домашнее задание можно выполнять целиком в этом ноутбуке, либо алгоритмы написать в отдельном файле и импортировать сюда, для использования. В папке data лежат два файла islands.fasta и nonIslands.fasta. В них хранятся прочтения из CpG островков и из обычных участков генома соответственно, этими данными нужно будет воспользоваться в первом задании."
   ]
  },
  {
   "cell_type": "markdown",
   "metadata": {},
   "source": [
    "## Задача №1 (1)\n",
    "Определите частоты генерации для каждого из нуклеотидов внутри CpG островков и вне их. Посчитайте так-же частоты для всех упорядоченных пар нуклеотидов и сравните частоту пары CG внутри островков и снаружи. Сделайте вывод. "
   ]
  },
  {
   "cell_type": "code",
   "execution_count": 108,
   "metadata": {},
   "outputs": [],
   "source": [
    "from Bio import SeqIO\n",
    "import numpy as np \n",
    "import random\n"
   ]
  },
  {
   "cell_type": "code",
   "execution_count": 14,
   "metadata": {},
   "outputs": [],
   "source": [
    "def load(name):\n",
    "    seqs = []\n",
    "    for record in SeqIO.parse(name, \"fasta\"):\n",
    "        seqs.append(record.seq)\n",
    "    return seqs"
   ]
  },
  {
   "cell_type": "code",
   "execution_count": 15,
   "metadata": {},
   "outputs": [],
   "source": [
    "islands = load(\"data/islands.fasta\")\n",
    "nonislands = load(\"data/nonIslands.fasta\")"
   ]
  },
  {
   "cell_type": "code",
   "execution_count": 97,
   "metadata": {},
   "outputs": [],
   "source": [
    "def sfreq(seq,normalized = True):\n",
    "        cnt = [0,0,0,0]\n",
    "        \n",
    "        for s in seq:\n",
    "            if s == \"A\":\n",
    "                cnt[0] = cnt[0] + 1\n",
    "            elif s == \"C\":\n",
    "                cnt[1] = cnt[1] + 1\n",
    "            elif s == \"G\":\n",
    "                cnt[2] = cnt[2] + 1\n",
    "            else: \n",
    "                cnt[3] = cnt[3] + 1\n",
    "                \n",
    "        if normalized:\n",
    "            return list(map(lambda x: x/sum(cnt),cnt))\n",
    "        else:\n",
    "            return cnt\n",
    "        \n",
    "def pfreq(seqs,normalized = True):\n",
    "    cnt = {f:{s:0 for s in \"ACGT\"} for f in \"ACGT\"}\n",
    "    for seq in seqs:\n",
    "        for f,s in zip(seq[0:-2],seq[1:-1]):\n",
    "            cnt[f][s] += 1\n",
    "        \n",
    "    if normalized:\n",
    "        l = sum(map(len,seqs))\n",
    "        for f in cnt.keys():\n",
    "            for s in cnt[f].keys():\n",
    "                cnt[f][s] /= l \n",
    "        return cnt\n",
    "    else: \n",
    "        return cnt\n",
    "        \n",
    "    \n",
    "def foreach(seq,what = sfreq):\n",
    "    seqLen = len(seq)\n",
    "    # cnt = {l:0 for l in \"ACGT\"}\n",
    "    res = []\n",
    "    \n",
    "    for s in seq:\n",
    "        freq = what(s,normalized = False)\n",
    "        \n",
    "        res.append({l:i for l,i in zip(\"ACGT\",freq)})\n",
    "    \n",
    "    cnt = {s:0 for s in \"AGTC\"}\n",
    "    for d in res:\n",
    "        for k,v in d.items():\n",
    "            cnt[k] += v\n",
    "    l = sum(map(len,seq))\n",
    "    return {k: v/l for k,v in cnt.items()}\n",
    "        "
   ]
  },
  {
   "cell_type": "code",
   "execution_count": 106,
   "metadata": {},
   "outputs": [
    {
     "name": "stdout",
     "output_type": "stream",
     "text": [
      "single island data prob =  {'A': 0.20246225382932168, 'G': 0.29827680525164113, 'T': 0.20286433260393874, 'C': 0.29639660831509845}\n",
      "single nonisland data prob =  {'A': 0.28929861153616176, 'G': 0.1984481597792771, 'T': 0.3161168211758391, 'C': 0.19613640750872205}\n",
      "single island data prob =  0.058940098468271335\n",
      "single island data prob =  0.005277951721572745\n"
     ]
    }
   ],
   "source": [
    "single_island = foreach(islands,sfreq)\n",
    "pair_island = pfreq(islands)\n",
    "single_nonisland = foreach(nonislands,sfreq)\n",
    "pair_nonisland = pfreq(nonislands)\n",
    "\n",
    "print(\"single island data prob = \", single_island)\n",
    "print(\"single nonisland data prob = \", single_nonisland)\n",
    "\n",
    "print(\"single island data prob = \", pair_island['C']['G'])\n",
    "print(\"single island data prob = \", pair_nonisland['C']['G'])"
   ]
  },
  {
   "cell_type": "markdown",
   "metadata": {},
   "source": [
    "Видим, что частота CG нуклеотидных пар в последовательностях из CpG островков больше, чем из обычных участков генома."
   ]
  },
  {
   "cell_type": "markdown",
   "metadata": {},
   "source": [
    "## Задача №2 (2)\n",
    "Напишите марковскую модель, которая имеет открытые состояния {A, T, G, C}, и скрытые состояния {+, -}. Когда модель в состоянии **+**, то вероятность генерации некоторого символа нуклеотида соответствует его частоте внутри CpG островков, вычислиному в первом задании, если состояние **-**, то частоте вне островков. Вероятность остаться внутри островка 0.95, а перейти в обычный геном 0.05. Для остальной части генома соответствующие вероятности 0.995 и 0.005. Саму модель можно реализовать в виде итератора, определив метод next, который возвращает пару - состояние и нуклеотид, который в этом состоянии произведен.    \n",
    "Воспользуйтесь данной моделью для того чтобы сгенерировать набор из 20 последовательностей длинной от 1 000 до 100 000, причем к каждой последовательности должна прилагаться последовательность состояний."
   ]
  },
  {
   "cell_type": "code",
   "execution_count": 344,
   "metadata": {},
   "outputs": [],
   "source": [
    "def generator(freq_island,freq_nonisland,switch):\n",
    "    st = random.choice([\"+\",\"-\"])\n",
    "    switch = {\"+\":switch[0]  , \"-\":switch[1]}\n",
    "    states = {\"+\":freq_island, \"-\":freq_nonisland}\n",
    "    \n",
    "    while True:\n",
    "        st = random.choices([\"+\",\"-\"], weights=switch[st])[0]\n",
    "        ch = random.choices(list(states[st].keys()),weights=list(states[st].values()))[0]\n",
    "        yield ch,st\n",
    "\n",
    "def advanced_generator(freq_pair_island,freq_pair_nonisland,switch):\n",
    "    st = random.choice([\"+\",\"-\"])\n",
    "    ch = random.choice(['A','G','T','C'])\n",
    "    switch = {\"+\":switch[0]  , \"-\":switch[1]}\n",
    "    states = {\"+\":freq_pair_island, \"-\":freq_pair_nonisland}\n",
    "    \n",
    "    st = random.choices([\"+\",\"-\"], weights=switch[st])[0]\n",
    "    ch = random.choices(list(states[st].keys()),weights=list(states[st][ch].values()))[0]\n",
    "    \n",
    "    while True:\n",
    "        st = random.choices([\"+\",\"-\"], weights=switch[st])[0]\n",
    "        ch = random.choices(list(states[st].keys()),weights=list(states[st][ch].values()))[0]\n",
    "        yield ch,st"
   ]
  },
  {
   "cell_type": "code",
   "execution_count": 347,
   "metadata": {},
   "outputs": [],
   "source": [
    "n = 20\n",
    "min_len = 1000\n",
    "max_len = 100000\n",
    "\n",
    "\n",
    "def test(gen):\n",
    "    res = []\n",
    "    for i in range(n):\n",
    "\n",
    "        i = random.randint(min_len,max_len)\n",
    "        mseq = []\n",
    "        mst = []\n",
    "\n",
    "        for _ in range(i):\n",
    "            ch, st = next(gen)\n",
    "            mseq.append(ch)\n",
    "            mst.append(st)\n",
    "        res.append([mseq,mst])\n",
    "    \n",
    "    return res"
   ]
  },
  {
   "cell_type": "code",
   "execution_count": 348,
   "metadata": {},
   "outputs": [],
   "source": [
    "switch = [[0.95,0.05],[0.005,0.995]]\n",
    "#gen = advanced_generator(single_island,single_nonisland,switch)\n",
    "\n",
    "gen1 = generator(single_island,single_nonisland,switch)\n",
    "gen2 = advanced_generator(pair_island,pair_nonisland,switch)\n",
    "\n",
    "res1 = test(gen1)\n",
    "res2 = test(gen2)\n",
    "       \n"
   ]
  },
  {
   "cell_type": "code",
   "execution_count": 356,
   "metadata": {},
   "outputs": [],
   "source": [
    "seqs = []\n",
    "tr = list(map(lambda x: seqs.append(\"\".join(x[0])),res1))\n",
    "#print(seqs[0])"
   ]
  },
  {
   "cell_type": "markdown",
   "metadata": {},
   "source": [
    "## Задача №3 (4)\n",
    "Напишите алгоритм Витерби для восстановления последовательности скрытых состояний марковской модели из второго задаания. Воспользуйтесь им, воссстановив состояния тех последовательностей, которые вы получили во втором задании и посчитайте TP, TN, FP, FN по количеству правильно или ошибочно предсказанных позиций из CpG остравков. "
   ]
  },
  {
   "cell_type": "markdown",
   "metadata": {},
   "source": [
    "## Задача №4 (4)\n",
    "Напишите алгоритм вперед назад для модели из второго задания. Пользуясь этим алгоритмом найдите вероятности того, что модель находилась в состоянии **+** для каждой позиции строк из второго задания. Устанавливая различные пороговые значения, определите позиции соответствующие CpG островкам и посчитайте TP. Постройте график зависимости TP от выбранного порогового значения. Есть ли пороговые значения при которых TP больше чем в задании №3?"
   ]
  }
 ],
 "metadata": {
  "kernelspec": {
   "display_name": "Python 3",
   "language": "python",
   "name": "python3"
  },
  "language_info": {
   "codemirror_mode": {
    "name": "ipython",
    "version": 3
   },
   "file_extension": ".py",
   "mimetype": "text/x-python",
   "name": "python",
   "nbconvert_exporter": "python",
   "pygments_lexer": "ipython3",
   "version": "3.8.5"
  }
 },
 "nbformat": 4,
 "nbformat_minor": 4
}
